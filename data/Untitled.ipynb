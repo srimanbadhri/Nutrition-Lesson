{
 "cells": [
  {
   "cell_type": "code",
   "execution_count": 3,
   "id": "d9f263f9-cecd-4f08-aa1d-04100bb6d545",
   "metadata": {},
   "outputs": [],
   "source": [
    "import pandas as pd\n"
   ]
  },
  {
   "cell_type": "code",
   "execution_count": 5,
   "id": "a9540ca6-eb8b-465e-a6a2-c2641daa007d",
   "metadata": {},
   "outputs": [],
   "source": [
    "new_births_df = pd.read_csv(\"US_births_2000-2014_SSA.csv\")\n",
    "\n",
    "old_births_df = pd.read_csv(\"US_births_1994-2003_CDC_NCHS.csv\")\n",
    "\n",
    "births_df = pd.concat([old_births_df, new_births_df], axis=0)"
   ]
  },
  {
   "cell_type": "code",
   "execution_count": 7,
   "id": "6db67787-6301-4952-9eb2-94336fe9cc42",
   "metadata": {},
   "outputs": [
    {
     "data": {
      "text/plain": [
       "0       1994\n",
       "1       1994\n",
       "2       1994\n",
       "3       1994\n",
       "4       1994\n",
       "        ... \n",
       "5474    2014\n",
       "5475    2014\n",
       "5476    2014\n",
       "5477    2014\n",
       "5478    2014\n",
       "Name: year, Length: 9131, dtype: int64"
      ]
     },
     "execution_count": 7,
     "metadata": {},
     "output_type": "execute_result"
    }
   ],
   "source": [
    "births_df['year']\n"
   ]
  },
  {
   "cell_type": "code",
   "execution_count": 11,
   "id": "b658cae6-e803-4d0e-b989-71ae52d0b9e1",
   "metadata": {},
   "outputs": [
    {
     "data": {
      "text/plain": [
       "array([1994, 1995, 1996, 1997, 1998, 1999, 2000, 2001, 2002, 2003, 2004,\n",
       "       2005, 2006, 2007, 2008, 2009, 2010, 2011, 2012, 2013, 2014])"
      ]
     },
     "execution_count": 11,
     "metadata": {},
     "output_type": "execute_result"
    }
   ],
   "source": [
    "births_df['year'].unique()\n"
   ]
  },
  {
   "cell_type": "code",
   "execution_count": 17,
   "id": "838586e4-f51d-43de-8292-c6f63cb55ff4",
   "metadata": {},
   "outputs": [],
   "source": [
    "import os\n",
    "\n",
    "os.mkdir('yearly_files')"
   ]
  },
  {
   "cell_type": "code",
   "execution_count": 21,
   "id": "e6a4475b-fe71-4e3c-b211-758c3a2dcc71",
   "metadata": {},
   "outputs": [
    {
     "name": "stdout",
     "output_type": "stream",
     "text": [
      "data/yearly_files/births1994.csv\n",
      "data/yearly_files/births1995.csv\n",
      "data/yearly_files/births1996.csv\n",
      "data/yearly_files/births1997.csv\n",
      "data/yearly_files/births1998.csv\n",
      "data/yearly_files/births1999.csv\n",
      "data/yearly_files/births2000.csv\n",
      "data/yearly_files/births2001.csv\n",
      "data/yearly_files/births2002.csv\n",
      "data/yearly_files/births2003.csv\n",
      "data/yearly_files/births2004.csv\n",
      "data/yearly_files/births2005.csv\n",
      "data/yearly_files/births2006.csv\n",
      "data/yearly_files/births2007.csv\n",
      "data/yearly_files/births2008.csv\n",
      "data/yearly_files/births2009.csv\n",
      "data/yearly_files/births2010.csv\n",
      "data/yearly_files/births2011.csv\n",
      "data/yearly_files/births2012.csv\n",
      "data/yearly_files/births2013.csv\n",
      "data/yearly_files/births2014.csv\n"
     ]
    }
   ],
   "source": [
    "for year in births_df['year'].unique():\n",
    "   filename='data/yearly_files/births' + str(year) + '.csv'\n",
    "   print(filename)"
   ]
  },
  {
   "cell_type": "code",
   "execution_count": null,
   "id": "c38e076e-0b82-4f99-9205-4a7a3019b4c5",
   "metadata": {},
   "outputs": [],
   "source": []
  }
 ],
 "metadata": {
  "kernelspec": {
   "display_name": "Python 3 (ipykernel)",
   "language": "python",
   "name": "python3"
  },
  "language_info": {
   "codemirror_mode": {
    "name": "ipython",
    "version": 3
   },
   "file_extension": ".py",
   "mimetype": "text/x-python",
   "name": "python",
   "nbconvert_exporter": "python",
   "pygments_lexer": "ipython3",
   "version": "3.11.7"
  }
 },
 "nbformat": 4,
 "nbformat_minor": 5
}
